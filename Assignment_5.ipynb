{
  "nbformat": 4,
  "nbformat_minor": 0,
  "metadata": {
    "colab": {
      "provenance": []
    },
    "kernelspec": {
      "name": "python3",
      "display_name": "Python 3"
    },
    "language_info": {
      "name": "python"
    }
  },
  "cells": [
    {
      "cell_type": "code",
      "execution_count": null,
      "metadata": {
        "id": "bUJvftiOtfpP"
      },
      "outputs": [],
      "source": []
    },
    {
      "cell_type": "markdown",
      "source": [
        "1. What is the difference between interpreted and compiled languages?\n",
        "\n",
        " Compiled Language\n",
        "\n",
        "- Definition: In compiled languages, the source code is translated into machine code (binary instructions) by a compiler before execution.\n",
        "\n",
        "- Execution: The compiled program (executable) runs directly on the machine’s hardware.\n",
        "\n",
        "- Speed: Generally faster because the code is already translated.\n",
        "\n",
        "- Examples: C, C++, Rust, Go.\n",
        "\n",
        "Interpreted Language\n",
        "\n",
        "Definition: In interpreted languages, the source code is executed line by line by an interpreter without first converting it into machine code.\n",
        "\n",
        "Execution: The interpreter reads, analyzes, and executes the code at runtime.\n",
        "\n",
        "Speed: Generally slower because translation happens on the fly.\n",
        "\n",
        "Examples: Python, JavaScript, Ruby, PHP.\n",
        "\n",
        "2. What is exception handling in Python?\n",
        "-  Exception handling in Python is a way to manage errors that occur during program execution without crashing the program. It lets you handle unexpected situations gracefully.\n",
        "\n",
        "Syntax:-  try:\n",
        "    # Code that may raise an exception\n",
        "    x = 10 / 0\n",
        "except ZeroDivisionError:\n",
        "    print(\"You cannot divide by zero!\")\n",
        "\n",
        "3. What is the purpose of the finally block in exception handling?\n",
        "-  Purpose of the finally Block in Python\n",
        "\n",
        "- The finally block is used to define cleanup code that should always run, whether an exception occurs or not.\n",
        "\n",
        "- It is commonly used to release resources like closing files, database connections, or network sockets.\n",
        "\n",
        "Example:-  try:\n",
        "    file = open(\"example.txt\", \"r\")\n",
        "    data = file.read()\n",
        "except FileNotFoundError:\n",
        "    print(\"File not found.\")\n",
        "finally:\n",
        "    print(\"Closing file...\")\n",
        "    try:\n",
        "        file.close()\n",
        "    except:\n",
        "        pass\n",
        "\n",
        "\n",
        "4. What is logging in Python?\n",
        "-  Definition:\n",
        "Logging in Python is the process of recording messages (info, warnings, errors, debugging details) during program execution. It helps developers track the flow of a program, debug issues, and keep audit trails.\n",
        "\n",
        "Unlike print(), logging is more powerful because you can:\n",
        "\n",
        "- Set different levels of severity (DEBUG, INFO, WARNING, ERROR, CRITICAL).\n",
        "\n",
        "- Output logs to files, console, or external systems.\n",
        "\n",
        "- Format logs with timestamps, filenames, line numbers, etc.\n",
        "\n",
        "5. What is the significance of the __del__ method in Python?\n",
        "-  Definition:\n",
        "The __del__ method in Python is called a destructor.\n",
        "It is a special method that gets invoked automatically when an object is about to be destroyed (i.e., when its reference count becomes zero and Python’s garbage collector removes it).\n",
        "\n",
        "6. What is the difference between import and from ... import in Python?\n",
        "-  Difference between import and from ... import in Python\n",
        "1. import statement\n",
        "\n",
        "Imports the entire module.\n",
        "\n",
        "You access functions, classes, or variables using the module name prefix.\n",
        "\n",
        " Example:\n",
        "\n",
        "import math\n",
        "\n",
        "print(math.sqrt(16))   # Need to use module name\n",
        "\n",
        "\n",
        "2. from ... import statement\n",
        "\n",
        "Imports specific functions, classes, or variables from a module.\n",
        "\n",
        "You can use them directly without prefixing the module name.\n",
        "\n",
        " Example:\n",
        "\n",
        "from math import sqrt\n",
        "\n",
        "print(sqrt(16))   # No need to write math.sqrt\n",
        "\n",
        "7. How can you handle multiple exceptions in Python?\n",
        "-  In Python, multiple exceptions can be handled by writing separate except blocks for each exception, grouping multiple exceptions in a tuple if the handling is the same, or using a generic except Exception block to catch all errors. This ensures the program doesn’t crash and handles errors gracefully.\n",
        "\n",
        "8. What is the purpose of the with statement when handling files in Python?\n",
        "-  The with statement in Python is used to manage resources like files. It ensures that resources are properly acquired and released.\n",
        "\n",
        "When handling files, with automatically opens the file and then closes it when the block of code inside finishes — even if an error occurs.\n",
        "\n",
        "With with :- with open(\"data.txt\", \"r\") as file:\n",
        "    content = file.read()\n",
        "    print(content)\n",
        "# File automatically closed here\n",
        "\n",
        "9. What is the difference between multithreading and multiprocessing?\n",
        "-  Multithreading\n",
        "\n",
        "\n",
        "- A thread is the smallest unit of execution within a process.\n",
        "\n",
        "- Multithreading means running multiple threads inside a single process.\n",
        "\n",
        "- All threads share the same memory space of the process.\n",
        "\n",
        "\n",
        "\n",
        "- Multiprocessing\n",
        "\n",
        "\n",
        "- A process is an independent instance of a program.\n",
        "\n",
        "- Multiprocessing means running multiple processes, each with its own memory space and Python interpreter.\n",
        "\n",
        "10. What are the advantages of using logging in a program?\n",
        "-   \n",
        "1. Better than print() debugging\n",
        "\n",
        "Unlike print(), logging provides levels of severity (DEBUG, INFO, WARNING, ERROR, CRITICAL).\n",
        "\n",
        "You can filter logs based on importance instead of cluttering output.\n",
        "\n",
        "2. Persistent Record (Logs are Saved)\n",
        "\n",
        "Logging can write messages to files, databases, or monitoring systems, keeping a permanent record.\n",
        "\n",
        "Helps with post-mortem debugging (analyzing after a crash).\n",
        "\n",
        "3. Easier Debugging & Monitoring\n",
        "\n",
        "Logs give a step-by-step trace of program execution.\n",
        "\n",
        "Useful for finding bugs, performance bottlenecks, or unexpected behavior.\n",
        "\n",
        "4. Flexibility & Configurability\n",
        "\n",
        "You can control where logs go (console, file, remote server).\n",
        "\n",
        "You can set log format (timestamps, filenames, line numbers).\n",
        "\n",
        "5. Helps in Large Applications\n",
        "\n",
        "In real-world apps (web servers, data pipelines), print() isn’t enough.\n",
        "\n",
        "Logging provides structured and centralized tracking.\n",
        "\n",
        "6. Error Diagnosis in Production\n",
        "\n",
        "Logs help developers diagnose errors without stopping or attaching a debugger.\n",
        "\n",
        "Essential when working on live/production systems.\n",
        "\n",
        "7. Improved Maintainability\n",
        "\n",
        "Logs make it easier for new developers (or your future self) to understand program flow and past issues.\n",
        "\n",
        "11. What is memory management in Python>\n",
        "-   Definition:\n",
        "Memory management in Python refers to how Python allocates, tracks, and frees memory used by variables, objects, and data structures during program execution.\n",
        "\n",
        "Python provides automatic memory management through:\n",
        "\n",
        "- Private heap space\n",
        "\n",
        "- Garbage collection\n",
        "\n",
        "- Reference counting\n",
        "\n",
        "12. What are the basic steps involved in exception handling in Python?\n",
        "-   \n",
        "1. . Place Risky Code Inside a try Block\n",
        "\n",
        "- Any code that might raise an error should go inside a try block.\n",
        "\n",
        "2. Catch Exceptions Using except Block\n",
        "\n",
        "- Handle specific exceptions (or multiple ones).\n",
        "\n",
        "3. Use else (Optional)\n",
        "\n",
        "- Runs only if no exception occurs.\n",
        "\n",
        "4. Use finally (Optional)\n",
        "\n",
        "- Always runs, whether an exception occurred or not.\n",
        "\n",
        "- Commonly used for cleanup (e.g., closing files, releasing resources).\n",
        "\n",
        "Example:-  try:\n",
        "    num = int(input(\"Enter a number: \"))\n",
        "    result = 10 / num\n",
        "except ZeroDivisionError:\n",
        "    print(\"You cannot divide by zero.\")\n",
        "except ValueError:\n",
        "    print(\"Invalid input, please enter a number.\")\n",
        "else:\n",
        "    print(\"Result is:\", result)\n",
        "finally:\n",
        "    print(\"Program ended.\")\n",
        "\n",
        "13. Why is memory management important in Python?\n",
        "-   Memory management is crucial in Python because it directly affects performance, stability, and resource usage of applications.\n",
        "\n",
        "Key Reasons\n",
        "\n",
        "1. Efficient Use of Resources\n",
        "\n",
        "Python programs often deal with large datasets, images, or objects.\n",
        "\n",
        "Proper memory management ensures that memory is allocated and released efficiently, preventing waste.\n",
        "\n",
        "2. Prevents Memory Leaks\n",
        "\n",
        "If unused objects are not freed, memory leaks can occur.\n",
        "\n",
        "Python’s garbage collector and reference counting help reclaim unused memory.\n",
        "\n",
        "3. Improves Program Performance\n",
        "\n",
        "Efficient memory handling means faster execution.\n",
        "\n",
        "For example, Python reuses small integers and strings to save memory and speed up access.\n",
        "\n",
        "4. Ensures Program Stability\n",
        "\n",
        "Without good memory management, programs can crash with errors like MemoryError.\n",
        "\n",
        "Proper management ensures smooth execution, especially for long-running processes.\n",
        "\n",
        "5. Simplifies Developer’s Work\n",
        "\n",
        "Python handles most memory tasks automatically (via garbage collection).\n",
        "\n",
        "Developers can focus on solving problems instead of manually allocating/freeing memory (like in C/C++).\n",
        "\n",
        "14. What is the role of try and except in exception handling?\n",
        "-   Role of try and except in Exception Handling\n",
        "1. try Block\n",
        "\n",
        "The try block is used to wrap the code that might raise an exception.\n",
        "\n",
        "If no error occurs → code runs normally.\n",
        "\n",
        "If an error occurs → Python immediately jumps to the matching except block.\n",
        "\n",
        "2. except Block\n",
        "\n",
        "The except block catches and handles the exception raised inside the try block.\n",
        "\n",
        "Prevents the program from crashing.\n",
        "\n",
        "Can be specific (for a particular error) or generic (catch all exceptions).\n",
        "\n",
        "15. How does Python's garbage collection system work?\n",
        "-   Python’s garbage collection system is responsible for automatically managing memory by reclaiming unused objects.\n",
        "\n",
        "It mainly works using:\n",
        "\n",
        "1. Reference Counting\n",
        "\n",
        "2. Cyclic Garbage Collector\n",
        "\n",
        "- Reference Counting (Primary Mechanism)\n",
        "\n",
        "Every Python object keeps a reference count → how many variables point to it.\n",
        "\n",
        "When reference count = 0, the object is immediately destroyed and memory is freed.\n",
        "\n",
        "- Cyclic Garbage Collection\n",
        "\n",
        "Problem: Reference counting fails when objects refer to each other (circular references).\n",
        "\n",
        "16. What is the purpose of the else block in exception handling?\n",
        "-   In Python, you can use an else block after try and except.\n",
        "\n",
        "Meaning\n",
        "\n",
        "The else block runs only if no exception occurs in the try block.\n",
        "\n",
        "If an exception happens, the else block is skipped.\n",
        "\n",
        "syntax:-  try:\n",
        "    # Code that may raise an exception\n",
        "except SomeException:\n",
        "    # Handle the exception\n",
        "else:\n",
        "    # Runs if NO exception occurred\n",
        "\n",
        "17. What are the common logging levels in Python?\n",
        "-   Python’s logging module defines five standard levels (each with an integer value). They represent the severity of the event being logged.\n",
        "\n",
        "Here are the common logging levels in Python (from lowest to highest severity):\n",
        "\n",
        "- DEBUG (10)\n",
        "\n",
        "Detailed information, typically useful for diagnosing problems while developing.\n",
        "\n",
        "Example: variable values, flow of execution.\n",
        "\n",
        "- INFO (20)\n",
        "\n",
        "General information about program execution, confirming things are working as expected.\n",
        "\n",
        "Example: \"Server started at port 8080.\"\n",
        "\n",
        "- WARNING (30)\n",
        "\n",
        "Indicates something unexpected happened, but the program is still running.\n",
        "\n",
        "Example: \"Disk space running low.\"\n",
        "\n",
        "- ERROR (40)\n",
        "\n",
        "A serious problem that prevented part of the program from working.\n",
        "\n",
        "Example: \"Failed to connect to database.\"\n",
        "\n",
        "- CRITICAL (50)\n",
        "\n",
        "Very serious error, indicating the program itself may not continue running.\n",
        "\n",
        "Example: \"System crash, shutting down.\"\n",
        "\n",
        "18.  What is the difference between os.fork() and multiprocessing in Python?\n",
        "-   os.fork()\n",
        "\n",
        "Definition: A low-level system call available on Unix/Linux only (not supported on Windows).\n",
        "\n",
        "Working: Duplicates (forks) the current process. After the fork, both parent and child processes continue executing from the same point in code.\n",
        "\n",
        "Return value:\n",
        "\n",
        "0 in the child process\n",
        "\n",
        "PID of child in the parent process\n",
        "\n",
        " Example:  import os\n",
        "\n",
        "pid = os.fork()\n",
        "\n",
        "if pid == 0:\n",
        "    print(\"This is the child process.\")\n",
        "else:\n",
        "    print(\"This is the parent process.\")\n",
        "\n",
        "multiprocessing module\n",
        "\n",
        "Definition: A high-level Python module that allows creating and managing processes in a cross-platform way (works on Windows, Linux, macOS).\n",
        "\n",
        "Working: Spawns new processes using Process class, with automatic support for queues, pipes, locks, and shared memory.\n",
        "\n",
        "Return value: Doesn’t return a PID like fork(). Instead, you work with a Process object.\n",
        "\n",
        "Example:  from multiprocessing import Process\n",
        "\n",
        "def worker():\n",
        "    print(\"This is a child process.\")\n",
        "\n",
        "if __name__ == \"__main__\":\n",
        "    p = Process(target=worker)\n",
        "    p.start()\n",
        "    p.join()\n",
        "    print(\"This is the parent process.\")\n",
        "\n",
        "19. What is the importance of closing a file in Python?\n",
        "-   Importance of Closing a File in Python\n",
        "\n",
        "1. Releases System Resources\n",
        "\n",
        "Each open file consumes a file descriptor (a limited resource).\n",
        "\n",
        "Not closing files may lead to “Too many open files” error if many files stay open.\n",
        "\n",
        "2. Ensures Data is Written (Flushed) to Disk\n",
        "\n",
        "File writes are often buffered in memory for performance.\n",
        "\n",
        "If you don’t close the file, some data may remain in the buffer and never get written.\n",
        "\n",
        "3. Avoids File Corruption\n",
        "\n",
        "Especially important when writing. Closing ensures the file’s metadata and content are saved correctly.\n",
        "\n",
        "Allows Other Programs to Access the File\n",
        "\n",
        "An unclosed file may stay “locked” on some systems, preventing other programs or processes from reading/writing it.\n",
        "\n",
        "4. Good Programming Practice\n",
        "\n",
        "It makes code more predictable and avoids hidden bugs in larger applications.\n",
        "\n",
        "20. What is the difference between file.read() and file.readline() in Python?\n",
        "-  file.read()\n",
        "\n",
        "Reads the entire file (or a specified number of characters/bytes).\n",
        "\n",
        "If called without arguments → reads the whole file content into a single string.\n",
        "\n",
        "If called with an integer n → reads up to n characters/bytes.\n",
        "\n",
        "Moves the file pointer forward by the number of characters read.\n",
        "\n",
        "\n",
        "- file.readline()\n",
        "\n",
        "Reads only one line at a time (ending at \\n).\n",
        "\n",
        "Useful for processing files line by line.\n",
        "\n",
        "If called repeatedly → returns the next line each time.\n",
        "\n",
        "Returns an empty string ('') when end of file is reached.\n",
        "\n",
        "\n",
        "21. What is the logging module in Python used for?\n",
        "-   The logging module in Python is a built-in library that provides a flexible way to track events, errors, and messages in your program. Instead of using print() statements, logging is the standard way to record program activity for debugging, monitoring, and auditing.\n",
        "\n",
        "\n",
        "Purpose of the logging Module\n",
        "\n",
        "Debugging – Helps track what your code is doing (like variable values or flow of execution).\n",
        "\n",
        "Error Tracking – Records errors and exceptions for later analysis.\n",
        "\n",
        "Monitoring – Keeps logs of how the program is running in production.\n",
        "\n",
        "Audit Trail – Maintains a history of important events (e.g., login attempts, file access).\n",
        "\n",
        "Flexibility – You can control what to log (levels) and where to log (console, file, etc.).\n",
        "\n",
        "22. What is the os module in Python used for in file handling?\n",
        "-   The os module in Python is a built-in library that provides functions for interacting with the operating system.\n",
        "\n",
        "When it comes to file handling, the os module is especially useful because it lets you work with files, directories, and paths beyond just opening and reading/writing (which you do with open()).\n",
        "\n",
        "Uses of os Module in File Handling\n",
        "\n",
        "1. File and Directory Operations\n",
        "\n",
        "os.remove(\"file.txt\") → delete a file\n",
        "\n",
        "os.rename(\"old.txt\", \"new.txt\") → rename a file\n",
        "\n",
        "os.mkdir(\"folder\") → create a new directory\n",
        "\n",
        "os.rmdir(\"folder\") → remove an empty directory\n",
        "\n",
        "os.makedirs(\"a/b/c\") → create nested directories\n",
        "\n",
        "2. Checking File/Directory Existence\n",
        "\n",
        "os.path.exists(\"file.txt\") → check if file/folder exists\n",
        "\n",
        "os.path.isfile(\"file.txt\") → check if it’s a file\n",
        "\n",
        "os.path.isdir(\"folder\") → check if it’s a directory\n",
        "\n",
        "3. Working with Paths\n",
        "\n",
        "os.getcwd() → get current working directory\n",
        "\n",
        "os.chdir(\"path\") → change current working directory\n",
        "\n",
        "os.path.join(\"folder\", \"file.txt\") → safely join paths\n",
        "\n",
        "os.path.abspath(\"file.txt\") → get absolute path\n",
        "\n",
        "4. Listing Files/Directories\n",
        "\n",
        "os.listdir(\"folder\") → list all files and folders in a directory\n",
        "\n",
        "os.scandir(\"folder\") → iterate with more details\n",
        "\n",
        "5. Environment Variables (indirectly related to file handling, e.g., file paths)\n",
        "\n",
        "os.environ.get(\"PATH\") → access environment variables\n",
        "\n",
        "23. What are the challenges associated with memory management in Python?\n",
        "-   Challenges in Python Memory Management\n",
        "\n",
        "1. Garbage Collection Overhead\n",
        "\n",
        "Python uses reference counting + cyclic garbage collector.\n",
        "\n",
        "Constant checking for reference counts and cycles can cause performance overhead in memory-intensive applications.\n",
        "\n",
        "2. Memory Leaks\n",
        "\n",
        "Even though Python has garbage collection, memory leaks can still happen:\n",
        "\n",
        "Unreleased references (e.g., global variables, caches not cleared).\n",
        "\n",
        "Reference cycles involving objects with __del__() methods (finalizers).\n",
        "\n",
        "Forgetting to close files, sockets, or database connections.\n",
        "\n",
        "3. Fragmentation of Memory\n",
        "\n",
        "Python objects are managed by an internal allocator (pymalloc).\n",
        "\n",
        "Long-running applications may suffer from memory fragmentation, making it harder to reuse freed memory efficiently.\n",
        "\n",
        "4. Global Interpreter Lock (GIL)\n",
        "\n",
        "In CPython, the GIL prevents multiple native threads from executing Python bytecode at once.\n",
        "\n",
        "This means multithreading doesn’t always improve memory efficiency, as memory access is serialized.\n",
        "\n",
        "5. Large Object Handling\n",
        "\n",
        "Large datasets (e.g., in data science or AI) can consume huge amounts of memory.\n",
        "\n",
        "Lists, dicts, and other built-in data structures may not be memory-efficient for very large data.\n",
        "\n",
        "24. How do you raise an exception manually in Python?\n",
        "-   In Python, you can manually raise an exception using the raise keyword. This is useful when you want to stop execution and signal that an error or unexpected condition occurred.\n",
        "\n",
        "Example 1: Raising a Built-in Exception\n",
        "x = -5\n",
        "\n",
        "if x < 0:\n",
        "    raise ValueError(\"x cannot be negative\")\n",
        "\n",
        "\n",
        "Output:\n",
        "\n",
        "ValueError: x cannot be negative\n",
        "\n",
        "25. Why is it important to use multithreading in certain applications?\n",
        "-   \n",
        "1. Improves Responsiveness (Concurrency)\n",
        "\n",
        "Multithreading allows a program to perform multiple tasks at the same time.\n",
        "\n",
        "Example: In a web browser, one thread can render the page while another downloads images, keeping the UI responsive.\n",
        "\n",
        "2. Better Utilization of I/O Bound Operations\n",
        "\n",
        "In Python, due to the Global Interpreter Lock (GIL), threads don’t run Python bytecode truly in parallel on multiple CPUs.\n",
        "\n",
        "But multithreading shines in I/O-bound tasks (e.g., reading/writing files, network requests, database queries) because while one thread waits for I/O, another can continue working.\n",
        "\n",
        "3. Resource Sharing\n",
        "\n",
        "Threads share the same memory space, so they can easily share data without using inter-process communication.\n",
        "\n",
        "This makes multithreading lighter than multiprocessing in many scenarios.\n",
        "\n",
        "4. Efficiency in Certain Applications\n",
        "\n",
        "Instead of creating separate processes (which are heavier), multiple threads within the same process can be used to perform tasks efficiently.\n",
        "\n",
        "Example: A server handling thousands of simultaneous connections (like chat servers or web servers).\n",
        "\n",
        "5. Parallelism (in some cases)\n",
        "\n",
        "In implementations of Python other than CPython (like Jython or IronPython), threads can run truly in parallel, utilizing multiple CPU cores.\n",
        "\n",
        "Even in CPython, you can combine multithreading with multiprocessing for hybrid parallelism."
      ],
      "metadata": {
        "id": "eTDwcfWZtnNV"
      }
    },
    {
      "cell_type": "markdown",
      "source": [],
      "metadata": {
        "id": "4Y7rGxQttnJx"
      }
    },
    {
      "cell_type": "code",
      "metadata": {
        "id": "f03bedc3"
      },
      "source": [
        "#1 How can you open a file for writing in Python and write a string to it?\n",
        "with open(\"file.txt\",\"w\") as f:\n",
        "  f.write(\"Hey, my name is Shivani\")\n",
        "  f.write(\"\\nI am in DA course\")"
      ],
      "execution_count": 28,
      "outputs": []
    },
    {
      "cell_type": "code",
      "source": [
        "#2  Write a Python program to read the contents of a file and print each line.\n",
        "with open(\"file.txt\",\"r\") as f:\n",
        "  print(f.read())"
      ],
      "metadata": {
        "colab": {
          "base_uri": "https://localhost:8080/"
        },
        "id": "Veb-2-w1kbcj",
        "outputId": "ee819db4-20c5-4a86-cd09-1456e60233b8"
      },
      "execution_count": 29,
      "outputs": [
        {
          "output_type": "stream",
          "name": "stdout",
          "text": [
            "Hey, my name is Shivani\n",
            "I am in DA course\n"
          ]
        }
      ]
    },
    {
      "cell_type": "code",
      "source": [
        "#3  How would you handle a case where the file doesn't exist while trying to open it for reading?\n",
        "try:\n",
        "    with open(\"non_existing_file.txt\", \"r\") as f:\n",
        "        content = f.read()\n",
        "        print(content)\n",
        "except FileNotFoundError:\n",
        "    print(\"Error: The file does not exist.\")\n"
      ],
      "metadata": {
        "colab": {
          "base_uri": "https://localhost:8080/"
        },
        "id": "CYOY1zklktAX",
        "outputId": "4ed09b59-1cdd-44a2-a29d-526b96d0476d"
      },
      "execution_count": 3,
      "outputs": [
        {
          "output_type": "stream",
          "name": "stdout",
          "text": [
            "Error: The file does not exist.\n"
          ]
        }
      ]
    },
    {
      "cell_type": "code",
      "source": [
        "#4  Write a Python script that reads from one file and writes its content to another file.\n",
        "# Read from one file and write to another\n",
        "def copy_file(source, destination):\n",
        "    try:\n",
        "        with open(source, \"r\") as f1:\n",
        "            content = f1.read()   # Read all content from source\n",
        "\n",
        "        with open(destination, \"w\") as f2:\n",
        "            f2.write(content)     # Write content to destination\n",
        "\n",
        "        print(f\"Contents of '{source}' copied to '{destination}' successfully!\")\n",
        "\n",
        "    except FileNotFoundError:\n",
        "        print(f\"Error: The file '{source}' does not exist.\")\n",
        "    except Exception as e:\n",
        "        print(\"An unexpected error occurred:\", e)\n",
        "\n",
        "\n",
        "# Example usage\n",
        "copy_file(\"source.txt\", \"destination.txt\")\n"
      ],
      "metadata": {
        "colab": {
          "base_uri": "https://localhost:8080/"
        },
        "id": "gncQVX5nlVXQ",
        "outputId": "eff9686b-a10d-4da0-c892-45eeef910d9d"
      },
      "execution_count": 4,
      "outputs": [
        {
          "output_type": "stream",
          "name": "stdout",
          "text": [
            "Error: The file 'source.txt' does not exist.\n"
          ]
        }
      ]
    },
    {
      "cell_type": "code",
      "source": [
        "#5  How would you catch and handle division by zero error in Python?\n",
        "try:\n",
        "    num = 10\n",
        "    den = 0\n",
        "    result = num / den\n",
        "    print(\"Result:\", result)\n",
        "\n",
        "except ZeroDivisionError:\n",
        "    print(\"Error: Division by zero is not allowed.\")\n"
      ],
      "metadata": {
        "colab": {
          "base_uri": "https://localhost:8080/"
        },
        "id": "a5NVZ1-mls7G",
        "outputId": "a0b569f7-afdd-453a-b8ea-862e296eca71"
      },
      "execution_count": 9,
      "outputs": [
        {
          "output_type": "stream",
          "name": "stdout",
          "text": [
            "Error: Division by zero is not allowed.\n"
          ]
        }
      ]
    },
    {
      "cell_type": "code",
      "source": [
        "#6  Write a Python program that logs an error message to a log file when a division by zero exception occurs.\n",
        "import logging\n",
        "\n",
        "# Configure logging (log messages will be written to error.log file)\n",
        "logging.basicConfig(\n",
        "    filename=\"error.log\",\n",
        "    level=logging.ERROR,\n",
        "    format=\"%(asctime)s - %(levelname)s - %(message)s\"\n",
        ")\n",
        "\n",
        "def safe_divide(a, b):\n",
        "    try:\n",
        "        return a / b\n",
        "    except ZeroDivisionError:\n",
        "        logging.error(\"Division by zero error: attempted to divide %s by %s\", a, b)\n",
        "        print(\"Error: Division by zero! Check error.log for details.\")\n",
        "        return None\n",
        "\n",
        "# Example usage\n",
        "result = safe_divide(10, 0)\n",
        "print(\"Result:\", result)\n"
      ],
      "metadata": {
        "colab": {
          "base_uri": "https://localhost:8080/"
        },
        "id": "laAdU2Url4ZL",
        "outputId": "27a68070-d889-4dd6-88f0-36f59d2bd14c"
      },
      "execution_count": 10,
      "outputs": [
        {
          "output_type": "stream",
          "name": "stderr",
          "text": [
            "ERROR:root:Division by zero error: attempted to divide 10 by 0\n"
          ]
        },
        {
          "output_type": "stream",
          "name": "stdout",
          "text": [
            "Error: Division by zero! Check error.log for details.\n",
            "Result: None\n"
          ]
        }
      ]
    },
    {
      "cell_type": "code",
      "source": [
        "#7  How do you log information at different levels (INFO, ERROR, WARNING) in Python using the logging module?\n",
        "import logging\n",
        "\n",
        "# Configure logging (prints to console and writes to app.log)\n",
        "logging.basicConfig(\n",
        "    filename=\"app.log\",        # Log file name\n",
        "    level=logging.DEBUG,       # Set minimum log level\n",
        "    format=\"%(asctime)s - %(levelname)s - %(message)s\"\n",
        ")\n",
        "\n",
        "# Log messages at different levels\n",
        "logging.debug(\"This is a DEBUG message (detailed information).\")\n",
        "logging.info(\"This is an INFO message (general update).\")\n",
        "logging.warning(\"This is a WARNING message (something unexpected).\")\n",
        "logging.error(\"This is an ERROR message (something failed).\")\n",
        "logging.critical(\"This is a CRITICAL message (serious failure).\")\n"
      ],
      "metadata": {
        "colab": {
          "base_uri": "https://localhost:8080/"
        },
        "id": "VF8EmQ5kmIbz",
        "outputId": "14209114-75bd-416e-8477-ebaaa56cc2f0"
      },
      "execution_count": 11,
      "outputs": [
        {
          "output_type": "stream",
          "name": "stderr",
          "text": [
            "WARNING:root:This is a WARNING message (something unexpected).\n",
            "ERROR:root:This is an ERROR message (something failed).\n",
            "CRITICAL:root:This is a CRITICAL message (serious failure).\n"
          ]
        }
      ]
    },
    {
      "cell_type": "code",
      "source": [
        "#8 Write a program to handle a file opening error using exception handling.\n",
        "def read_file(filename):\n",
        "    try:\n",
        "        with open(filename, \"r\") as f:\n",
        "            content = f.read()\n",
        "            print(\"File contents:\\n\", content)\n",
        "\n",
        "    except FileNotFoundError:\n",
        "        print(f\"Error: The file '{filename}' does not exist.\")\n",
        "    except PermissionError:\n",
        "        print(f\"Error: You don't have permission to read '{filename}'.\")\n",
        "    except Exception as e:\n",
        "        print(\"An unexpected error occurred:\", e)\n",
        "\n",
        "\n",
        "# Example usage\n",
        "read_file(\"mydata.txt\")\n"
      ],
      "metadata": {
        "colab": {
          "base_uri": "https://localhost:8080/"
        },
        "id": "I7e-Mf59mmQ2",
        "outputId": "132236dd-ff18-4826-f23a-779911f927f8"
      },
      "execution_count": 12,
      "outputs": [
        {
          "output_type": "stream",
          "name": "stdout",
          "text": [
            "Error: The file 'mydata.txt' does not exist.\n"
          ]
        }
      ]
    },
    {
      "cell_type": "code",
      "source": [
        "#9  How can you read a file line by line and store its content in a list in Python?\n",
        "with open(\"example.txt\", \"r\") as f:\n",
        "    lines = f.readlines()   # Reads all lines into a list\n",
        "\n",
        "print(lines)\n"
      ],
      "metadata": {
        "colab": {
          "base_uri": "https://localhost:8080/"
        },
        "id": "uXRP7Fqj4Yv0",
        "outputId": "288d0f75-be8f-4409-af90-f60501b65aba"
      },
      "execution_count": 7,
      "outputs": [
        {
          "output_type": "stream",
          "name": "stdout",
          "text": [
            "['Hello, Python file handling!\\n', 'This is the second line.\\n']\n"
          ]
        }
      ]
    },
    {
      "cell_type": "code",
      "source": [
        "#10  How can you append data to an existing file in Python>\n",
        "# Open file in append mode and add text\n",
        "with open(\"example.txt\", \"a\") as f:\n",
        "    f.write(\"\\nThis is a new line added at the end.\")\n",
        "\n",
        "print(\"Data appended successfully!\")\n"
      ],
      "metadata": {
        "colab": {
          "base_uri": "https://localhost:8080/"
        },
        "id": "uWmd4otP5Qmn",
        "outputId": "95b51cb9-31c7-44de-ceda-ecfa3f6e0319"
      },
      "execution_count": 8,
      "outputs": [
        {
          "output_type": "stream",
          "name": "stdout",
          "text": [
            "Data appended successfully!\n"
          ]
        }
      ]
    },
    {
      "cell_type": "code",
      "source": [
        "#11  Write a Python program that uses a try-except block to handle an error when attempting to access a dictionary key that doesn't exist.\n",
        "def get_value(dictionary, key):\n",
        "    try:\n",
        "        value = dictionary[key]   # Try to access the key\n",
        "        print(f\"Value for '{key}': {value}\")\n",
        "    except KeyError:\n",
        "        print(f\"Error: The key '{key}' does not exist in the dictionary.\")\n",
        "\n",
        "# Example dictionary\n",
        "my_dict = {\"name\": \"Shivani\", \"age\": 21, \"city\": \"Dehradun\"}\n",
        "\n",
        "# Accessing existing key\n",
        "get_value(my_dict, \"name\")\n",
        "\n",
        "# Accessing non-existing key\n",
        "get_value(my_dict, \"country\")\n"
      ],
      "metadata": {
        "colab": {
          "base_uri": "https://localhost:8080/"
        },
        "id": "H6zRWI065e-a",
        "outputId": "320197e6-6808-43a7-a7cc-0099cfe56e41"
      },
      "execution_count": 9,
      "outputs": [
        {
          "output_type": "stream",
          "name": "stdout",
          "text": [
            "Value for 'name': Alice\n",
            "Error: The key 'country' does not exist in the dictionary.\n"
          ]
        }
      ]
    },
    {
      "cell_type": "code",
      "source": [
        "#12  Write a program that demonstrates using multiple except blocks to handle different types of exceptions.\n",
        "def divide_numbers():\n",
        "    try:\n",
        "        num = int(input(\"Enter numerator: \"))\n",
        "        den = int(input(\"Enter denominator: \"))\n",
        "        result = num / den\n",
        "        print(\"Result:\", result)\n",
        "\n",
        "    except ValueError:\n",
        "        print(\"Error: Please enter valid integers.\")\n",
        "    except ZeroDivisionError:\n",
        "        print(\"Error: Division by zero is not allowed.\")\n",
        "    except Exception as e:\n",
        "        print(\"An unexpected error occurred:\", e)\n",
        "\n",
        "# Run the function\n",
        "divide_numbers()\n"
      ],
      "metadata": {
        "colab": {
          "base_uri": "https://localhost:8080/"
        },
        "id": "iBtsXTXl6GWv",
        "outputId": "c5a2311c-5ef6-45e4-dc81-0ebf29b9e062"
      },
      "execution_count": 10,
      "outputs": [
        {
          "output_type": "stream",
          "name": "stdout",
          "text": [
            "Enter numerator: 4\n",
            "Enter denominator: 2\n",
            "Result: 2.0\n"
          ]
        }
      ]
    },
    {
      "cell_type": "code",
      "source": [
        "#13  How would you check if a file exists before attempting to read it in Python.\n",
        "import os\n",
        "\n",
        "filename = \"example.txt\"\n",
        "\n",
        "if os.path.exists(filename):\n",
        "    with open(filename, \"r\") as f:\n",
        "        content = f.read()\n",
        "        print(\"File contents:\\n\", content)\n",
        "else:\n",
        "    print(f\"Error: The file '{filename}' does not exist.\")\n"
      ],
      "metadata": {
        "colab": {
          "base_uri": "https://localhost:8080/"
        },
        "id": "SNtpBa5E6y0l",
        "outputId": "a6ad00f9-e0c2-409b-831e-278489dbc6c4"
      },
      "execution_count": 11,
      "outputs": [
        {
          "output_type": "stream",
          "name": "stdout",
          "text": [
            "File contents:\n",
            " Hello, Python file handling!\n",
            "This is the second line.\n",
            "\n",
            "This is a new line added at the end.\n"
          ]
        }
      ]
    },
    {
      "cell_type": "code",
      "source": [
        "#14  Write a program that uses the logging module to log both informational and error messages.\n",
        "import logging\n",
        "\n",
        "# Configure logging\n",
        "logging.basicConfig(\n",
        "    filename=\"app.log\",          # Log file name\n",
        "    level=logging.INFO,          # Minimum level to log\n",
        "    format=\"%(asctime)s - %(levelname)s - %(message)s\"\n",
        ")\n",
        "\n",
        "def divide(a, b):\n",
        "    try:\n",
        "        result = a / b\n",
        "        logging.info(\"Division successful: %s / %s = %s\", a, b, result)\n",
        "        return result\n",
        "    except ZeroDivisionError:\n",
        "        logging.error(\"Division failed: attempted to divide %s by %s\", a, b)\n",
        "        return None\n",
        "\n",
        "# Example usage\n",
        "print(\"Result 1:\", divide(10, 2))   # Valid division\n",
        "print(\"Result 2:\", divide(5, 0))    # Division by zero (error)\n"
      ],
      "metadata": {
        "colab": {
          "base_uri": "https://localhost:8080/"
        },
        "id": "AwxQIkiZ6-18",
        "outputId": "c4290c3c-37a5-44b5-97f2-414f0a793b46"
      },
      "execution_count": 12,
      "outputs": [
        {
          "output_type": "stream",
          "name": "stderr",
          "text": [
            "ERROR:root:Division failed: attempted to divide 5 by 0\n"
          ]
        },
        {
          "output_type": "stream",
          "name": "stdout",
          "text": [
            "Result 1: 5.0\n",
            "Result 2: None\n"
          ]
        }
      ]
    },
    {
      "cell_type": "code",
      "source": [
        "#15 Write a Python program that prints the content of a file and handles the case when the file is empty.\n",
        "def print_file_content(filename):\n",
        "    try:\n",
        "        with open(filename, \"r\") as f:\n",
        "            content = f.read()\n",
        "\n",
        "            if content.strip() == \"\":   # Check if file is empty (or only whitespace)\n",
        "                print(f\"The file '{filename}' is empty.\")\n",
        "            else:\n",
        "                print(\"File contents:\\n\")\n",
        "                print(content)\n",
        "\n",
        "    except FileNotFoundError:\n",
        "        print(f\"Error: The file '{filename}' does not exist.\")\n",
        "    except Exception as e:\n",
        "        print(\"An unexpected error occurred:\", e)\n",
        "\n",
        "\n",
        "# Example usage\n",
        "print_file_content(\"example.txt\")\n"
      ],
      "metadata": {
        "colab": {
          "base_uri": "https://localhost:8080/"
        },
        "id": "7BmOW3kA7U9x",
        "outputId": "574231ac-f5f5-4da8-f5ca-f1fffaff7fdf"
      },
      "execution_count": 13,
      "outputs": [
        {
          "output_type": "stream",
          "name": "stdout",
          "text": [
            "File contents:\n",
            "\n",
            "Hello, Python file handling!\n",
            "This is the second line.\n",
            "\n",
            "This is a new line added at the end.\n"
          ]
        }
      ]
    },
    {
      "cell_type": "code",
      "source": [
        "#16  Demonstrate how to use memory profiling to check the memory usage of a small program.\n",
        "from memory_profiler import profile\n",
        "\n",
        "@profile\n",
        "def create_large_list():\n",
        "    # Create a large list (memory heavy operation)\n",
        "    big_list = [i for i in range(1000000)]\n",
        "    print(\"List created with\", len(big_list), \"items\")\n",
        "    return big_list\n",
        "\n",
        "if __name__ == \"__main__\":\n",
        "    create_large_list()\n"
      ],
      "metadata": {
        "colab": {
          "base_uri": "https://localhost:8080/"
        },
        "id": "PIVUmg1w7ir9",
        "outputId": "93b3743b-217b-4910-efb3-18f1b08badb6"
      },
      "execution_count": 16,
      "outputs": [
        {
          "output_type": "stream",
          "name": "stdout",
          "text": [
            "ERROR: Could not find file /tmp/ipython-input-4074806069.py\n",
            "List created with 1000000 items\n"
          ]
        }
      ]
    },
    {
      "cell_type": "code",
      "metadata": {
        "colab": {
          "base_uri": "https://localhost:8080/"
        },
        "id": "c9b9e095",
        "outputId": "b8e7607c-aff8-484e-c53f-1976cd735369"
      },
      "source": [
        "!pip install memory_profiler"
      ],
      "execution_count": 15,
      "outputs": [
        {
          "output_type": "stream",
          "name": "stdout",
          "text": [
            "Collecting memory_profiler\n",
            "  Downloading memory_profiler-0.61.0-py3-none-any.whl.metadata (20 kB)\n",
            "Requirement already satisfied: psutil in /usr/local/lib/python3.12/dist-packages (from memory_profiler) (5.9.5)\n",
            "Downloading memory_profiler-0.61.0-py3-none-any.whl (31 kB)\n",
            "Installing collected packages: memory_profiler\n",
            "Successfully installed memory_profiler-0.61.0\n"
          ]
        }
      ]
    },
    {
      "cell_type": "markdown",
      "metadata": {
        "id": "6aa5f966"
      },
      "source": [
        "After installing the library, you can run the cell again to use the `memory_profiler`."
      ]
    },
    {
      "cell_type": "code",
      "source": [
        "#17  Write a Python program to create and write a list of numbers to a file, one number per line.\n",
        "def write_numbers_to_file(filename, numbers):\n",
        "    try:\n",
        "        with open(filename, \"w\") as f:\n",
        "            for num in numbers:\n",
        "                f.write(str(num) + \"\\n\")   # Convert number to string before writing\n",
        "        print(f\"Numbers written successfully to '{filename}'\")\n",
        "    except Exception as e:\n",
        "        print(\"An error occurred:\", e)\n",
        "\n",
        "\n",
        "# Example usage\n",
        "numbers_list = [10, 20, 30, 40, 50]\n",
        "write_numbers_to_file(\"numbers.txt\", numbers_list)\n"
      ],
      "metadata": {
        "colab": {
          "base_uri": "https://localhost:8080/"
        },
        "id": "ERvIf4u08Tov",
        "outputId": "0b835d75-d027-4dcb-c7ed-ae3576b031ff"
      },
      "execution_count": 22,
      "outputs": [
        {
          "output_type": "stream",
          "name": "stdout",
          "text": [
            "Numbers written successfully to 'numbers.txt'\n"
          ]
        }
      ]
    },
    {
      "cell_type": "code",
      "source": [
        "#18 How would you implement a basic logging setup that logs to a file with rotation after 1MB?\n",
        "import logging\n",
        "from logging.handlers import RotatingFileHandler\n",
        "\n",
        "# Set up a rotating log handler\n",
        "handler = RotatingFileHandler(\n",
        "    \"app.log\",        # Log file name\n",
        "    maxBytes=1_000_000,  # 1 MB (rotation size)\n",
        "    backupCount=3       # Keep last 3 backups (app.log.1, app.log.2, etc.)\n",
        ")\n",
        "\n",
        "# Configure logging\n",
        "logging.basicConfig(\n",
        "    level=logging.INFO,\n",
        "    format=\"%(asctime)s - %(levelname)s - %(message)s\",\n",
        "    handlers=[handler]\n",
        ")\n",
        "\n",
        "# Example usage\n",
        "for i in range(10000):\n",
        "    logging.info(\"Logging message number %d\", i)\n"
      ],
      "metadata": {
        "id": "SBs4b7ME85lK"
      },
      "execution_count": 21,
      "outputs": []
    },
    {
      "cell_type": "code",
      "source": [
        "#19  Write a program that handles both IndexError and KeyError using a try-except block.\n",
        "try:\n",
        "  dic={\"name\":\"shivani\",\"age\":21}\n",
        "  dic[\"course\"]\n",
        "  l1=[1,2,3,4]\n",
        "  l1[5]\n",
        "except (KeyError,IndexError) as e:\n",
        "  print(\"error is:\",e)\n"
      ],
      "metadata": {
        "colab": {
          "base_uri": "https://localhost:8080/"
        },
        "id": "OIvnl2gk9oDg",
        "outputId": "0a2ff7e0-1c3a-430d-dff3-a0d830b388f9"
      },
      "execution_count": 24,
      "outputs": [
        {
          "output_type": "stream",
          "name": "stdout",
          "text": [
            "error is: 'course'\n"
          ]
        }
      ]
    },
    {
      "cell_type": "code",
      "source": [
        "#20  How would you open a file and read its contents using a context manager in Python?\n",
        "with open(\"file.txt\",\"r\")as f:\n",
        "  r=f.read()\n",
        "  print(r)"
      ],
      "metadata": {
        "colab": {
          "base_uri": "https://localhost:8080/"
        },
        "id": "WNE1yAkU-C-x",
        "outputId": "e16a202f-3d27-4c70-e7ef-44ed437bc021"
      },
      "execution_count": 30,
      "outputs": [
        {
          "output_type": "stream",
          "name": "stdout",
          "text": [
            "Hey, my name is Shivani\n",
            "I am in DA course\n"
          ]
        }
      ]
    },
    {
      "cell_type": "code",
      "source": [
        "#21  Write a Python program that reads a file and prints the number of occurrences of a specific word.\n",
        "with open(\"file.txt\",\"r\")as f:\n",
        "  r=f.read()\n",
        "  print(r.count(\"shivani\"))"
      ],
      "metadata": {
        "colab": {
          "base_uri": "https://localhost:8080/"
        },
        "id": "3UAuF3m4-y1t",
        "outputId": "1f005edc-00ab-4be4-dac0-230df1e2df7e"
      },
      "execution_count": 32,
      "outputs": [
        {
          "output_type": "stream",
          "name": "stdout",
          "text": [
            "0\n"
          ]
        }
      ]
    },
    {
      "cell_type": "code",
      "source": [
        "#22  How can you check if a file is empty before attempting to read its contents?\n",
        "import os\n",
        "size = os.path.getsize(\"file.txt\")\n",
        "\n",
        "if size==0:\n",
        "  print(\"file is empty\")\n",
        "else:\n",
        "  with open(\"file.txt\",\"r\")as f:\n",
        "    r=f.read()\n",
        "    print(\"this file is not empty:\\n\",r)\n"
      ],
      "metadata": {
        "colab": {
          "base_uri": "https://localhost:8080/"
        },
        "id": "oWUXX7Jj_O49",
        "outputId": "912fb0c8-5fde-4948-93b9-e7861bd4df92"
      },
      "execution_count": 33,
      "outputs": [
        {
          "output_type": "stream",
          "name": "stdout",
          "text": [
            "this file is not empty:\n",
            " Hey, my name is Shivani\n",
            "I am in DA course\n"
          ]
        }
      ]
    },
    {
      "cell_type": "code",
      "source": [
        "#23  Write a Python program that writes to a log file when an error occurs during file handling.\n",
        "try:\n",
        "    with open(\"data.txt\", \"r\") as file:\n",
        "        c = file.read()\n",
        "        print(c)\n",
        "\n",
        "except Exception as e:\n",
        "    with open(\"error_log.txt\", \"a\") as log_file:\n",
        "        log_file.write(f\"Error: {str(e)}\\n\")\n",
        "\n",
        "# output:\n",
        "# Error: [Errno 2] No such file or directory: 'data.txt'"
      ],
      "metadata": {
        "id": "mZVtHhOu_hbE"
      },
      "execution_count": 35,
      "outputs": []
    }
  ]
}